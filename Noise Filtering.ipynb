{
 "cells": [
  {
   "cell_type": "code",
   "execution_count": 1,
   "metadata": {
    "collapsed": true
   },
   "outputs": [],
   "source": [
    "import os\n",
    "\n",
    "all_images = []\n",
    "all_image_root = 'PH2Dataset/PH2 Dataset images'\n",
    "\n",
    "#gather all images in all_image_root and store them in all_images\n",
    "def gather_images():\n",
    "    for dirpath, dirnames, filenames in os.walk(all_image_root):\n",
    "        for filename in [f for f in filenames if ( f.endswith(\".bmp\") and \"_\" not in f  )]:\n",
    "            all_images.append(os.path.join(dirpath, filename))\n",
    "\n",
    "gather_images()\n",
    "   "
   ]
  },
  {
   "cell_type": "markdown",
   "metadata": {},
   "source": [
    "# Hair Removal Filter"
   ]
  },
  {
   "cell_type": "code",
   "execution_count": null,
   "metadata": {
    "collapsed": true
   },
   "outputs": [],
   "source": []
  }
 ],
 "metadata": {
  "kernelspec": {
   "display_name": "Python 3",
   "language": "python",
   "name": "python3"
  },
  "language_info": {
   "codemirror_mode": {
    "name": "ipython",
    "version": 3
   },
   "file_extension": ".py",
   "mimetype": "text/x-python",
   "name": "python",
   "nbconvert_exporter": "python",
   "pygments_lexer": "ipython3",
   "version": "3.5.1"
  }
 },
 "nbformat": 4,
 "nbformat_minor": 0
}
