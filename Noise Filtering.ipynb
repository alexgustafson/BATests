{
 "cells": [
  {
   "cell_type": "code",
   "execution_count": 3,
   "metadata": {
    "collapsed": true
   },
   "outputs": [],
   "source": [
    "%matplotlib inline\n",
    "import os\n",
    "from PIL import Image\n",
    "from numpy import *\n",
    "from pylab import *\n",
    "from skimage.color import rgb2gray\n",
    "from skimage.color import gray2rgb\n",
    "\n",
    "all_images = []\n",
    "all_image_root = 'PH2Dataset/PH2 Dataset images'\n",
    "\n",
    "#gather all images in all_image_root and store them in all_images\n",
    "def gather_images():\n",
    "    for dirpath, dirnames, filenames in os.walk(all_image_root):\n",
    "        for filename in [f for f in filenames if ( f.endswith(\".bmp\") and \"_\" not in f  )]:\n",
    "            all_images.append(os.path.join(dirpath, filename))\n",
    "\n",
    "gather_images()\n",
    "   "
   ]
  },
  {
   "cell_type": "markdown",
   "metadata": {},
   "source": [
    "# Hair Removal Filter"
   ]
  },
  {
   "cell_type": "code",
   "execution_count": null,
   "metadata": {
    "collapsed": true
   },
   "outputs": [],
   "source": [
    "from scipy.ndimage import filters\n",
    "from skimage.filters import threshold_otsu, gaussian\n",
    "from scipy.ndimage import median_filter\n",
    "\n",
    "def create_mask(im):\n",
    "    imx = zeros(im.shape)\n",
    "    imy = zeros(im.shape)\n",
    "    filters.sobel(im, 1, imx)\n",
    "    filters.sobel(im, 0, imy)\n",
    "    mask = sqrt(imx**2+imy**2)\n",
    "    mask = mask / mask.max()\n",
    "    mask = gaussian(mask, 4)\n",
    "    thresh = threshold_otsu(rgb2gray(mask))\n",
    "    mask = mask > thresh\n",
    "    mask = mask.astype(float)\n",
    "    \n",
    "    return mask\n",
    "\n",
    "\n",
    "def hair_removal(im, img_filter_amount=11):\n",
    "    \n",
    "    # create filtered image\n",
    "    filtered = median_filter(im, img_filter_amount)\n",
    "    \n",
    "    # create filter mask\n",
    "    mask = create_mask(im)\n",
    "    \n",
    "    # inverse mask\n",
    "    inv_mask = (1.0 - mask)\n",
    "    \n",
    "    # create composite of original and filtered using the mask\n",
    "    comp = (im * (gray2rgb(inv_mask))) + (filtered * gray2rgb(mask))\n",
    "    \n",
    "    return comp, mask, filtered"
   ]
  },
  {
   "cell_type": "code",
   "execution_count": null,
   "metadata": {
    "collapsed": true
   },
   "outputs": [],
   "source": []
  },
  {
   "cell_type": "code",
   "execution_count": null,
   "metadata": {
    "collapsed": false
   },
   "outputs": [],
   "source": [
    "for i in range(5):\n",
    "    im = array(Image.open(all_images[i]))\n",
    "    \n",
    "    comp, mask, filtered = hair_removal(im)\n",
    "    \n",
    "    fig, axes = plt.subplots(1, 4, figsize=(14, 4), sharex=True, sharey=True,\n",
    "                             subplot_kw={'adjustable': 'box-forced'})\n",
    "\n",
    "    ax = axes[0]\n",
    "    axes = axes[1:]\n",
    "    ax.imshow(im)\n",
    "    \n",
    "    ax = axes[0]\n",
    "    axes = axes[1:]\n",
    "    ax.imshow(mask)\n",
    "    \n",
    "    ax = axes[0]\n",
    "    axes = axes[1:]\n",
    "    ax.imshow(filtered)    \n",
    "    ax = axes[0]\n",
    "    axes = axes[1:]\n",
    "    ax.imshow(comp)\n",
    "    \n",
    "    show()"
   ]
  },
  {
   "cell_type": "code",
   "execution_count": null,
   "metadata": {
    "collapsed": true
   },
   "outputs": [],
   "source": []
  }
 ],
 "metadata": {
  "kernelspec": {
   "display_name": "Python 3",
   "language": "python",
   "name": "python3"
  },
  "language_info": {
   "codemirror_mode": {
    "name": "ipython",
    "version": 3
   },
   "file_extension": ".py",
   "mimetype": "text/x-python",
   "name": "python",
   "nbconvert_exporter": "python",
   "pygments_lexer": "ipython3",
   "version": "3.5.1"
  }
 },
 "nbformat": 4,
 "nbformat_minor": 0
}
